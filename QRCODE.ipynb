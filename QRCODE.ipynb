{
 "cells": [
  {
   "cell_type": "code",
   "execution_count": 1,
   "id": "bb85977d",
   "metadata": {},
   "outputs": [
    {
     "name": "stdout",
     "output_type": "stream",
     "text": [
      "Collecting pyqrcode\n",
      "  Using cached PyQRCode-1.2.1.zip (41 kB)\n",
      "Building wheels for collected packages: pyqrcode\n",
      "  Building wheel for pyqrcode (setup.py): started\n",
      "  Building wheel for pyqrcode (setup.py): finished with status 'done'\n",
      "  Created wheel for pyqrcode: filename=PyQRCode-1.2.1-py3-none-any.whl size=36245 sha256=bf5f39403c52cc3414a171ce15532f7b509f12bc4c1dbed60cdea6358c448b2d\n",
      "  Stored in directory: c:\\users\\uma maheswara reddy\\appdata\\local\\pip\\cache\\wheels\\e6\\5e\\b1\\e42b38f43c94593ea57059de7e585c009c0f54e36e1a532992\n",
      "Successfully built pyqrcode\n",
      "Installing collected packages: pyqrcode\n",
      "Successfully installed pyqrcode-1.2.1\n"
     ]
    }
   ],
   "source": [
    " !pip install pyqrcode"
   ]
  },
  {
   "cell_type": "code",
   "execution_count": 2,
   "id": "cc53b8a6",
   "metadata": {},
   "outputs": [
    {
     "name": "stdout",
     "output_type": "stream",
     "text": [
      "Collecting pypng\n",
      "  Using cached pypng-0.20220715.0-py3-none-any.whl (58 kB)\n",
      "Installing collected packages: pypng\n",
      "Successfully installed pypng-0.20220715.0\n"
     ]
    }
   ],
   "source": [
    "!pip install pypng"
   ]
  },
  {
   "cell_type": "code",
   "execution_count": 10,
   "id": "c4da48eb",
   "metadata": {},
   "outputs": [],
   "source": [
    "import pyqrcode\n",
    "import png"
   ]
  },
  {
   "cell_type": "code",
   "execution_count": 11,
   "id": "d1735ccb",
   "metadata": {},
   "outputs": [],
   "source": [
    "def qr_code():\n",
    "    s=\"hello python lovers222\"\n",
    "    l=pyqrcode.create(s)\n",
    "    l.png('py1.png',scale=6)\n",
    "if __name__== '__main__':\n",
    "    qr_code()\n",
    "    \n"
   ]
  },
  {
   "cell_type": "code",
   "execution_count": null,
   "id": "12c7fcc5",
   "metadata": {},
   "outputs": [],
   "source": []
  }
 ],
 "metadata": {
  "kernelspec": {
   "display_name": "Python 3",
   "language": "python",
   "name": "python3"
  },
  "language_info": {
   "codemirror_mode": {
    "name": "ipython",
    "version": 3
   },
   "file_extension": ".py",
   "mimetype": "text/x-python",
   "name": "python",
   "nbconvert_exporter": "python",
   "pygments_lexer": "ipython3",
   "version": "3.8.8"
  }
 },
 "nbformat": 4,
 "nbformat_minor": 5
}
